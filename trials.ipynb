{
 "cells": [
  {
   "cell_type": "markdown",
   "metadata": {},
   "source": [
    "The goal here is to get songs that were popular in different time intervals and see if over time there was an increase for example, if there was an increase in danceability over time in the popular songs or if it remained the same throughout the years.\n",
    "\n",
    "Here a popular song is defined as having a score greater than 50"
   ]
  },
  {
   "cell_type": "code",
   "execution_count": null,
   "metadata": {},
   "outputs": [],
   "source": [
    "# ! pip install pandas\n",
    "import pandas as pd\n",
    "\n",
    "df = pd.read_csv('spotify_data.csv')\n",
    "\n",
    "X = df['year']\n",
    "df_f_5_years = df[(X.between(1928, 1938)) & (df['popularity'] > 50)]\n",
    "\n",
    "late_90s = df[(X.between(1980, 1990)) & (df['popularity'] > 50)]\n",
    "\n",
    "early_2000s = df[(X.between(2000, 2010)) & (df['popularity'] > 50)]\n",
    "\n",
    "df_l_5_years = df[(X.between(2015, 2020)) & (df['popularity'] > 50)]\n"
   ]
  },
  {
   "cell_type": "markdown",
   "metadata": {},
   "source": [
    "The aim of this section is to try to estimate the genres based on the clusters formed"
   ]
  }
 ],
 "metadata": {
  "kernelspec": {
   "display_name": "Python 3.9.11 64-bit",
   "language": "python",
   "name": "python3"
  },
  "language_info": {
   "name": "python",
   "version": "3.9.11"
  },
  "orig_nbformat": 4,
  "vscode": {
   "interpreter": {
    "hash": "82ed002fa2d4956f5c6aec99bcefe0f73a9f79882f3c9e2319b14958a5896ac5"
   }
  }
 },
 "nbformat": 4,
 "nbformat_minor": 2
}
